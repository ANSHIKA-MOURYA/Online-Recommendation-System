{
 "cells": [
  {
   "cell_type": "code",
   "execution_count": null,
   "id": "cf9306dc",
   "metadata": {
    "execution": {
     "iopub.execute_input": "2023-07-17T09:33:53.114290Z",
     "iopub.status.busy": "2023-07-17T09:33:53.113399Z",
     "iopub.status.idle": "2023-07-17T09:33:54.836562Z",
     "shell.execute_reply": "2023-07-17T09:33:54.835405Z"
    },
    "papermill": {
     "duration": 1.737718,
     "end_time": "2023-07-17T09:33:54.839282",
     "exception": false,
     "start_time": "2023-07-17T09:33:53.101564",
     "status": "completed"
    },
    "tags": []
   },
   "outputs": [
    {
     "ename": "",
     "evalue": "",
     "output_type": "error",
     "traceback": [
      "\u001b[1;31mRunning cells with 'c:\\Python310\\python.exe' requires the ipykernel package.\n",
      "\u001b[1;31mRun the following command to install 'ipykernel' into the Python environment. \n",
      "\u001b[1;31mCommand: 'c:/Python310/python.exe -m pip install ipykernel -U --user --force-reinstall'"
     ]
    }
   ],
   "source": [
    "#Importing libraries\n",
    "import pandas as pd\n",
    "import numpy as np\n",
    "import matplotlib.pyplot as plt\n",
    "import seaborn as sns\n",
    "from sklearn.metrics.pairwise import cosine_similarity"
   ]
  },
  {
   "cell_type": "code",
   "execution_count": null,
   "id": "e315b758",
   "metadata": {
    "execution": {
     "iopub.execute_input": "2023-07-17T09:33:54.860339Z",
     "iopub.status.busy": "2023-07-17T09:33:54.859943Z",
     "iopub.status.idle": "2023-07-17T09:33:56.151121Z",
     "shell.execute_reply": "2023-07-17T09:33:56.150024Z"
    },
    "papermill": {
     "duration": 1.304218,
     "end_time": "2023-07-17T09:33:56.153503",
     "exception": false,
     "start_time": "2023-07-17T09:33:54.849285",
     "status": "completed"
    },
    "tags": []
   },
   "outputs": [
    {
     "ename": "",
     "evalue": "",
     "output_type": "error",
     "traceback": [
      "\u001b[1;31mRunning cells with 'c:\\Python310\\python.exe' requires the ipykernel package.\n",
      "\u001b[1;31mRun the following command to install 'ipykernel' into the Python environment. \n",
      "\u001b[1;31mCommand: 'c:/Python310/python.exe -m pip install ipykernel -U --user --force-reinstall'"
     ]
    }
   ],
   "source": [
    "#Loading Data\n",
    "retail = pd.read_csv('/kaggle/input/online-retail-dataset/online_retail.csv', index_col=False)\n",
    "retail.head()"
   ]
  },
  {
   "cell_type": "code",
   "execution_count": null,
   "id": "d5bb4e6c",
   "metadata": {
    "execution": {
     "iopub.execute_input": "2023-07-17T09:33:56.176279Z",
     "iopub.status.busy": "2023-07-17T09:33:56.175650Z",
     "iopub.status.idle": "2023-07-17T09:33:56.182100Z",
     "shell.execute_reply": "2023-07-17T09:33:56.180917Z"
    },
    "papermill": {
     "duration": 0.02093,
     "end_time": "2023-07-17T09:33:56.184074",
     "exception": false,
     "start_time": "2023-07-17T09:33:56.163144",
     "status": "completed"
    },
    "tags": []
   },
   "outputs": [
    {
     "ename": "",
     "evalue": "",
     "output_type": "error",
     "traceback": [
      "\u001b[1;31mRunning cells with 'c:\\Python310\\python.exe' requires the ipykernel package.\n",
      "\u001b[1;31mRun the following command to install 'ipykernel' into the Python environment. \n",
      "\u001b[1;31mCommand: 'c:/Python310/python.exe -m pip install ipykernel -U --user --force-reinstall'"
     ]
    }
   ],
   "source": [
    "#Checking of rows and Columns\n",
    "rows = len(retail.axes[0])\n",
    "columns = len(retail.axes[1])\n",
    "print(\"Number of Rows:\",rows)\n",
    "print(\"Number of Columns:\",columns)"
   ]
  },
  {
   "cell_type": "code",
   "execution_count": null,
   "id": "ccfbcb94",
   "metadata": {
    "execution": {
     "iopub.execute_input": "2023-07-17T09:33:56.205225Z",
     "iopub.status.busy": "2023-07-17T09:33:56.204345Z",
     "iopub.status.idle": "2023-07-17T09:33:56.612023Z",
     "shell.execute_reply": "2023-07-17T09:33:56.610928Z"
    },
    "papermill": {
     "duration": 0.42056,
     "end_time": "2023-07-17T09:33:56.614200",
     "exception": false,
     "start_time": "2023-07-17T09:33:56.193640",
     "status": "completed"
    },
    "tags": []
   },
   "outputs": [
    {
     "ename": "",
     "evalue": "",
     "output_type": "error",
     "traceback": [
      "\u001b[1;31mRunning cells with 'c:\\Python310\\python.exe' requires the ipykernel package.\n",
      "\u001b[1;31mRun the following command to install 'ipykernel' into the Python environment. \n",
      "\u001b[1;31mCommand: 'c:/Python310/python.exe -m pip install ipykernel -U --user --force-reinstall'"
     ]
    }
   ],
   "source": [
    "#Checking of null values\n",
    "missing_values_count = retail.isnull().sum()\n",
    "missing_values_count[0:8]"
   ]
  },
  {
   "cell_type": "code",
   "execution_count": null,
   "id": "27fb32a9",
   "metadata": {
    "execution": {
     "iopub.execute_input": "2023-07-17T09:33:56.637422Z",
     "iopub.status.busy": "2023-07-17T09:33:56.635246Z",
     "iopub.status.idle": "2023-07-17T09:33:57.264520Z",
     "shell.execute_reply": "2023-07-17T09:33:57.263336Z"
    },
    "papermill": {
     "duration": 0.643117,
     "end_time": "2023-07-17T09:33:57.267149",
     "exception": false,
     "start_time": "2023-07-17T09:33:56.624032",
     "status": "completed"
    },
    "tags": []
   },
   "outputs": [
    {
     "ename": "",
     "evalue": "",
     "output_type": "error",
     "traceback": [
      "\u001b[1;31mRunning cells with 'c:\\Python310\\python.exe' requires the ipykernel package.\n",
      "\u001b[1;31mRun the following command to install 'ipykernel' into the Python environment. \n",
      "\u001b[1;31mCommand: 'c:/Python310/python.exe -m pip install ipykernel -U --user --force-reinstall'"
     ]
    }
   ],
   "source": [
    "#Data Cleaning and Manipulation\n",
    "retail['Cancelled'] = retail['InvoiceNo'].str.find('C', start = 0)\n",
    "retail['Description'] = retail['Description'].fillna('None')\n",
    "retail['Description'] = retail['Description'].str.strip()\n",
    "retail['CustomerID'] = retail['CustomerID'].fillna('0')"
   ]
  },
  {
   "cell_type": "code",
   "execution_count": null,
   "id": "7190c563",
   "metadata": {
    "execution": {
     "iopub.execute_input": "2023-07-17T09:33:57.290340Z",
     "iopub.status.busy": "2023-07-17T09:33:57.289954Z",
     "iopub.status.idle": "2023-07-17T09:33:57.765228Z",
     "shell.execute_reply": "2023-07-17T09:33:57.764166Z"
    },
    "papermill": {
     "duration": 0.488472,
     "end_time": "2023-07-17T09:33:57.767375",
     "exception": false,
     "start_time": "2023-07-17T09:33:57.278903",
     "status": "completed"
    },
    "tags": []
   },
   "outputs": [
    {
     "ename": "",
     "evalue": "",
     "output_type": "error",
     "traceback": [
      "\u001b[1;31mRunning cells with 'c:\\Python310\\python.exe' requires the ipykernel package.\n",
      "\u001b[1;31mRun the following command to install 'ipykernel' into the Python environment. \n",
      "\u001b[1;31mCommand: 'c:/Python310/python.exe -m pip install ipykernel -U --user --force-reinstall'"
     ]
    }
   ],
   "source": [
    "#Checking of null values\n",
    "missing_values_count = retail.isnull().sum()\n",
    "missing_values_count[0:8]"
   ]
  },
  {
   "cell_type": "code",
   "execution_count": null,
   "id": "3421d204",
   "metadata": {
    "execution": {
     "iopub.execute_input": "2023-07-17T09:33:57.789882Z",
     "iopub.status.busy": "2023-07-17T09:33:57.789443Z",
     "iopub.status.idle": "2023-07-17T09:33:58.295987Z",
     "shell.execute_reply": "2023-07-17T09:33:58.294474Z"
    },
    "papermill": {
     "duration": 0.520488,
     "end_time": "2023-07-17T09:33:58.298482",
     "exception": false,
     "start_time": "2023-07-17T09:33:57.777994",
     "status": "completed"
    },
    "tags": []
   },
   "outputs": [
    {
     "ename": "",
     "evalue": "",
     "output_type": "error",
     "traceback": [
      "\u001b[1;31mRunning cells with 'c:\\Python310\\python.exe' requires the ipykernel package.\n",
      "\u001b[1;31mRun the following command to install 'ipykernel' into the Python environment. \n",
      "\u001b[1;31mCommand: 'c:/Python310/python.exe -m pip install ipykernel -U --user --force-reinstall'"
     ]
    }
   ],
   "source": [
    "#Checking of Dtypes\n",
    "retail.info()"
   ]
  },
  {
   "cell_type": "code",
   "execution_count": null,
   "id": "762681e8",
   "metadata": {
    "execution": {
     "iopub.execute_input": "2023-07-17T09:33:58.321492Z",
     "iopub.status.busy": "2023-07-17T09:33:58.320767Z",
     "iopub.status.idle": "2023-07-17T09:34:03.105470Z",
     "shell.execute_reply": "2023-07-17T09:34:03.104302Z"
    },
    "papermill": {
     "duration": 4.798975,
     "end_time": "2023-07-17T09:34:03.108192",
     "exception": false,
     "start_time": "2023-07-17T09:33:58.309217",
     "status": "completed"
    },
    "tags": []
   },
   "outputs": [
    {
     "ename": "",
     "evalue": "",
     "output_type": "error",
     "traceback": [
      "\u001b[1;31mRunning cells with 'c:\\Python310\\python.exe' requires the ipykernel package.\n",
      "\u001b[1;31mRun the following command to install 'ipykernel' into the Python environment. \n",
      "\u001b[1;31mCommand: 'c:/Python310/python.exe -m pip install ipykernel -U --user --force-reinstall'"
     ]
    }
   ],
   "source": [
    "#Data Cleaning and Manipulaton \n",
    "retail['InvoiceDate'] = pd.to_datetime(retail['InvoiceDate'])\n",
    "retail['Year'] = pd.to_datetime(retail['InvoiceDate']).dt.strftime('%Y')\n",
    "retail['Month'] = pd.to_datetime(retail['InvoiceDate']).dt.strftime('%m')\n",
    "retail['CustomerID'] = retail['CustomerID'].astype(int)\n",
    "retail['Total_Sales'] = retail['Quantity']*retail['UnitPrice']"
   ]
  },
  {
   "cell_type": "code",
   "execution_count": null,
   "id": "15498485",
   "metadata": {
    "execution": {
     "iopub.execute_input": "2023-07-17T09:34:03.130317Z",
     "iopub.status.busy": "2023-07-17T09:34:03.129586Z",
     "iopub.status.idle": "2023-07-17T09:34:03.625500Z",
     "shell.execute_reply": "2023-07-17T09:34:03.624062Z"
    },
    "papermill": {
     "duration": 0.509577,
     "end_time": "2023-07-17T09:34:03.627934",
     "exception": false,
     "start_time": "2023-07-17T09:34:03.118357",
     "status": "completed"
    },
    "tags": []
   },
   "outputs": [
    {
     "ename": "",
     "evalue": "",
     "output_type": "error",
     "traceback": [
      "\u001b[1;31mRunning cells with 'c:\\Python310\\python.exe' requires the ipykernel package.\n",
      "\u001b[1;31mRun the following command to install 'ipykernel' into the Python environment. \n",
      "\u001b[1;31mCommand: 'c:/Python310/python.exe -m pip install ipykernel -U --user --force-reinstall'"
     ]
    }
   ],
   "source": [
    "#Checking Dtypes\n",
    "retail.info()"
   ]
  },
  {
   "cell_type": "code",
   "execution_count": null,
   "id": "e3004405",
   "metadata": {
    "execution": {
     "iopub.execute_input": "2023-07-17T09:34:03.651003Z",
     "iopub.status.busy": "2023-07-17T09:34:03.650597Z",
     "iopub.status.idle": "2023-07-17T09:34:03.704372Z",
     "shell.execute_reply": "2023-07-17T09:34:03.703252Z"
    },
    "papermill": {
     "duration": 0.06726,
     "end_time": "2023-07-17T09:34:03.706500",
     "exception": false,
     "start_time": "2023-07-17T09:34:03.639240",
     "status": "completed"
    },
    "tags": []
   },
   "outputs": [
    {
     "ename": "",
     "evalue": "",
     "output_type": "error",
     "traceback": [
      "\u001b[1;31mRunning cells with 'c:\\Python310\\python.exe' requires the ipykernel package.\n",
      "\u001b[1;31mRun the following command to install 'ipykernel' into the Python environment. \n",
      "\u001b[1;31mCommand: 'c:/Python310/python.exe -m pip install ipykernel -U --user --force-reinstall'"
     ]
    }
   ],
   "source": [
    "retail.duplicated('Description')"
   ]
  },
  {
   "cell_type": "code",
   "execution_count": null,
   "id": "024b65ab",
   "metadata": {
    "execution": {
     "iopub.execute_input": "2023-07-17T09:34:03.728961Z",
     "iopub.status.busy": "2023-07-17T09:34:03.728579Z",
     "iopub.status.idle": "2023-07-17T09:34:03.943698Z",
     "shell.execute_reply": "2023-07-17T09:34:03.942354Z"
    },
    "papermill": {
     "duration": 0.229424,
     "end_time": "2023-07-17T09:34:03.946177",
     "exception": false,
     "start_time": "2023-07-17T09:34:03.716753",
     "status": "completed"
    },
    "tags": []
   },
   "outputs": [
    {
     "ename": "",
     "evalue": "",
     "output_type": "error",
     "traceback": [
      "\u001b[1;31mRunning cells with 'c:\\Python310\\python.exe' requires the ipykernel package.\n",
      "\u001b[1;31mRun the following command to install 'ipykernel' into the Python environment. \n",
      "\u001b[1;31mCommand: 'c:/Python310/python.exe -m pip install ipykernel -U --user --force-reinstall'"
     ]
    }
   ],
   "source": [
    "retail.drop_duplicates('Description')\n"
   ]
  },
  {
   "cell_type": "code",
   "execution_count": null,
   "id": "1953fb26",
   "metadata": {
    "execution": {
     "iopub.execute_input": "2023-07-17T09:34:03.970330Z",
     "iopub.status.busy": "2023-07-17T09:34:03.969952Z",
     "iopub.status.idle": "2023-07-17T09:34:03.986398Z",
     "shell.execute_reply": "2023-07-17T09:34:03.985220Z"
    },
    "papermill": {
     "duration": 0.030859,
     "end_time": "2023-07-17T09:34:03.988376",
     "exception": false,
     "start_time": "2023-07-17T09:34:03.957517",
     "status": "completed"
    },
    "tags": []
   },
   "outputs": [
    {
     "ename": "",
     "evalue": "",
     "output_type": "error",
     "traceback": [
      "\u001b[1;31mRunning cells with 'c:\\Python310\\python.exe' requires the ipykernel package.\n",
      "\u001b[1;31mRun the following command to install 'ipykernel' into the Python environment. \n",
      "\u001b[1;31mCommand: 'c:/Python310/python.exe -m pip install ipykernel -U --user --force-reinstall'"
     ]
    }
   ],
   "source": [
    "retail.head()"
   ]
  },
  {
   "cell_type": "code",
   "execution_count": null,
   "id": "db281c3d",
   "metadata": {
    "execution": {
     "iopub.execute_input": "2023-07-17T09:34:04.012033Z",
     "iopub.status.busy": "2023-07-17T09:34:04.011644Z",
     "iopub.status.idle": "2023-07-17T09:34:04.374184Z",
     "shell.execute_reply": "2023-07-17T09:34:04.372989Z"
    },
    "papermill": {
     "duration": 0.377368,
     "end_time": "2023-07-17T09:34:04.376765",
     "exception": false,
     "start_time": "2023-07-17T09:34:03.999397",
     "status": "completed"
    },
    "tags": []
   },
   "outputs": [
    {
     "ename": "",
     "evalue": "",
     "output_type": "error",
     "traceback": [
      "\u001b[1;31mRunning cells with 'c:\\Python310\\python.exe' requires the ipykernel package.\n",
      "\u001b[1;31mRun the following command to install 'ipykernel' into the Python environment. \n",
      "\u001b[1;31mCommand: 'c:/Python310/python.exe -m pip install ipykernel -U --user --force-reinstall'"
     ]
    }
   ],
   "source": [
    "#Analysis and Visualization\n",
    "total_sales_per_country = retail.groupby('Country')['Total_Sales'].sum().reset_index().sort_values('Total_Sales',ascending=False)\n",
    "z = sns.barplot(data=total_sales_per_country.head(5), x='Total_Sales',y='Country',palette = 'Blues_r')\n",
    "plt.title(\"Top 5 Countries with most sales \")"
   ]
  },
  {
   "cell_type": "code",
   "execution_count": null,
   "id": "6cf16ce5",
   "metadata": {
    "execution": {
     "iopub.execute_input": "2023-07-17T09:34:04.401277Z",
     "iopub.status.busy": "2023-07-17T09:34:04.400883Z",
     "iopub.status.idle": "2023-07-17T09:34:04.736570Z",
     "shell.execute_reply": "2023-07-17T09:34:04.735214Z"
    },
    "papermill": {
     "duration": 0.350926,
     "end_time": "2023-07-17T09:34:04.739173",
     "exception": false,
     "start_time": "2023-07-17T09:34:04.388247",
     "status": "completed"
    },
    "tags": []
   },
   "outputs": [
    {
     "ename": "",
     "evalue": "",
     "output_type": "error",
     "traceback": [
      "\u001b[1;31mRunning cells with 'c:\\Python310\\python.exe' requires the ipykernel package.\n",
      "\u001b[1;31mRun the following command to install 'ipykernel' into the Python environment. \n",
      "\u001b[1;31mCommand: 'c:/Python310/python.exe -m pip install ipykernel -U --user --force-reinstall'"
     ]
    }
   ],
   "source": [
    "total_customer_per_country = retail.groupby('Country')['CustomerID'].count().reset_index().sort_values('CustomerID',ascending=False)\n",
    "z = sns.barplot(data=total_customer_per_country.head(5), x='CustomerID',y='Country',palette = 'Blues_r')\n",
    "plt.title(\"Top 5 Countries with most Customers \")\n",
    "for i in z.containers:\n",
    "    z.bar_label(i,)"
   ]
  },
  {
   "cell_type": "code",
   "execution_count": null,
   "id": "1897b35d",
   "metadata": {
    "execution": {
     "iopub.execute_input": "2023-07-17T09:34:04.764905Z",
     "iopub.status.busy": "2023-07-17T09:34:04.764501Z",
     "iopub.status.idle": "2023-07-17T09:34:05.039095Z",
     "shell.execute_reply": "2023-07-17T09:34:05.038003Z"
    },
    "papermill": {
     "duration": 0.290359,
     "end_time": "2023-07-17T09:34:05.041570",
     "exception": false,
     "start_time": "2023-07-17T09:34:04.751211",
     "status": "completed"
    },
    "tags": []
   },
   "outputs": [
    {
     "ename": "",
     "evalue": "",
     "output_type": "error",
     "traceback": [
      "\u001b[1;31mRunning cells with 'c:\\Python310\\python.exe' requires the ipykernel package.\n",
      "\u001b[1;31mRun the following command to install 'ipykernel' into the Python environment. \n",
      "\u001b[1;31mCommand: 'c:/Python310/python.exe -m pip install ipykernel -U --user --force-reinstall'"
     ]
    }
   ],
   "source": [
    "total_sales_per_year = retail.groupby('Year')['Total_Sales'].sum().reset_index().sort_values('Total_Sales',ascending=False)\n",
    "z = sns.barplot(data=total_sales_per_year, x='Year',y='Total_Sales',palette = 'Blues_r')\n",
    "plt.title(\"Sales per Year \")"
   ]
  },
  {
   "cell_type": "code",
   "execution_count": null,
   "id": "f067a349",
   "metadata": {
    "execution": {
     "iopub.execute_input": "2023-07-17T09:34:05.068677Z",
     "iopub.status.busy": "2023-07-17T09:34:05.068270Z",
     "iopub.status.idle": "2023-07-17T09:34:05.455102Z",
     "shell.execute_reply": "2023-07-17T09:34:05.453801Z"
    },
    "papermill": {
     "duration": 0.403258,
     "end_time": "2023-07-17T09:34:05.457816",
     "exception": false,
     "start_time": "2023-07-17T09:34:05.054558",
     "status": "completed"
    },
    "tags": []
   },
   "outputs": [
    {
     "ename": "",
     "evalue": "",
     "output_type": "error",
     "traceback": [
      "\u001b[1;31mRunning cells with 'c:\\Python310\\python.exe' requires the ipykernel package.\n",
      "\u001b[1;31mRun the following command to install 'ipykernel' into the Python environment. \n",
      "\u001b[1;31mCommand: 'c:/Python310/python.exe -m pip install ipykernel -U --user --force-reinstall'"
     ]
    }
   ],
   "source": [
    "total_sales_per_category = retail.groupby('Description')['Total_Sales'].sum().reset_index().sort_values('Total_Sales',ascending=False)\n",
    "z = sns.barplot(data=total_sales_per_category.head(5), y='Description',x='Total_Sales',palette = 'Blues_r')\n",
    "plt.title(\"Top Item Sales\")\n",
    "for i in z.containers:\n",
    "    z.bar_label(i,)"
   ]
  },
  {
   "cell_type": "code",
   "execution_count": null,
   "id": "953c0fb4",
   "metadata": {
    "execution": {
     "iopub.execute_input": "2023-07-17T09:34:05.486670Z",
     "iopub.status.busy": "2023-07-17T09:34:05.486263Z",
     "iopub.status.idle": "2023-07-17T09:34:05.867518Z",
     "shell.execute_reply": "2023-07-17T09:34:05.866260Z"
    },
    "papermill": {
     "duration": 0.398336,
     "end_time": "2023-07-17T09:34:05.869869",
     "exception": false,
     "start_time": "2023-07-17T09:34:05.471533",
     "status": "completed"
    },
    "tags": []
   },
   "outputs": [
    {
     "ename": "",
     "evalue": "",
     "output_type": "error",
     "traceback": [
      "\u001b[1;31mRunning cells with 'c:\\Python310\\python.exe' requires the ipykernel package.\n",
      "\u001b[1;31mRun the following command to install 'ipykernel' into the Python environment. \n",
      "\u001b[1;31mCommand: 'c:/Python310/python.exe -m pip install ipykernel -U --user --force-reinstall'"
     ]
    }
   ],
   "source": [
    "#total_cancelled = retail.groupby(['Cancelled']).count().reset_index()\n",
    "z = sns.countplot(x=retail['Cancelled'], hue = retail['Cancelled'], dodge=False )\n",
    "plt.ylabel(\"Total Transaction\")\n",
    "plt.xlabel(\"Status\")\n",
    "plt.title(\"Transaction Status\")\n",
    "labels = [\"Successful\",\"Cancelled\"]\n",
    "z.legend(labels)\n",
    "for i in z.containers:\n",
    "    z.bar_label(i,)"
   ]
  },
  {
   "cell_type": "code",
   "execution_count": null,
   "id": "ba36f15f",
   "metadata": {
    "execution": {
     "iopub.execute_input": "2023-07-17T09:34:05.898273Z",
     "iopub.status.busy": "2023-07-17T09:34:05.897848Z",
     "iopub.status.idle": "2023-07-17T09:34:06.425494Z",
     "shell.execute_reply": "2023-07-17T09:34:06.424374Z"
    },
    "papermill": {
     "duration": 0.544927,
     "end_time": "2023-07-17T09:34:06.428084",
     "exception": false,
     "start_time": "2023-07-17T09:34:05.883157",
     "status": "completed"
    },
    "tags": []
   },
   "outputs": [
    {
     "ename": "",
     "evalue": "",
     "output_type": "error",
     "traceback": [
      "\u001b[1;31mRunning cells with 'c:\\Python310\\python.exe' requires the ipykernel package.\n",
      "\u001b[1;31mRun the following command to install 'ipykernel' into the Python environment. \n",
      "\u001b[1;31mCommand: 'c:/Python310/python.exe -m pip install ipykernel -U --user --force-reinstall'"
     ]
    }
   ],
   "source": [
    "retail.groupby('Description').count()"
   ]
  },
  {
   "cell_type": "code",
   "execution_count": null,
   "id": "07d277f5",
   "metadata": {
    "execution": {
     "iopub.execute_input": "2023-07-17T09:34:06.457751Z",
     "iopub.status.busy": "2023-07-17T09:34:06.457352Z",
     "iopub.status.idle": "2023-07-17T09:34:06.966336Z",
     "shell.execute_reply": "2023-07-17T09:34:06.965337Z"
    },
    "papermill": {
     "duration": 0.526249,
     "end_time": "2023-07-17T09:34:06.968465",
     "exception": false,
     "start_time": "2023-07-17T09:34:06.442216",
     "status": "completed"
    },
    "tags": []
   },
   "outputs": [
    {
     "ename": "",
     "evalue": "",
     "output_type": "error",
     "traceback": [
      "\u001b[1;31mRunning cells with 'c:\\Python310\\python.exe' requires the ipykernel package.\n",
      "\u001b[1;31mRun the following command to install 'ipykernel' into the Python environment. \n",
      "\u001b[1;31mCommand: 'c:/Python310/python.exe -m pip install ipykernel -U --user --force-reinstall'"
     ]
    }
   ],
   "source": [
    "retail.groupby('Description').count()['Quantity']"
   ]
  },
  {
   "cell_type": "code",
   "execution_count": null,
   "id": "53c79c5e",
   "metadata": {
    "execution": {
     "iopub.execute_input": "2023-07-17T09:34:06.998137Z",
     "iopub.status.busy": "2023-07-17T09:34:06.997712Z",
     "iopub.status.idle": "2023-07-17T09:34:07.505075Z",
     "shell.execute_reply": "2023-07-17T09:34:07.504024Z"
    },
    "papermill": {
     "duration": 0.52495,
     "end_time": "2023-07-17T09:34:07.507414",
     "exception": false,
     "start_time": "2023-07-17T09:34:06.982464",
     "status": "completed"
    },
    "tags": []
   },
   "outputs": [
    {
     "ename": "",
     "evalue": "",
     "output_type": "error",
     "traceback": [
      "\u001b[1;31mRunning cells with 'c:\\Python310\\python.exe' requires the ipykernel package.\n",
      "\u001b[1;31mRun the following command to install 'ipykernel' into the Python environment. \n",
      "\u001b[1;31mCommand: 'c:/Python310/python.exe -m pip install ipykernel -U --user --force-reinstall'"
     ]
    }
   ],
   "source": [
    "retail.groupby('Description').count()['Quantity'].reset_index()"
   ]
  },
  {
   "cell_type": "code",
   "execution_count": null,
   "id": "8c839d77",
   "metadata": {
    "execution": {
     "iopub.execute_input": "2023-07-17T09:34:07.537919Z",
     "iopub.status.busy": "2023-07-17T09:34:07.536723Z",
     "iopub.status.idle": "2023-07-17T09:34:07.648841Z",
     "shell.execute_reply": "2023-07-17T09:34:07.647868Z"
    },
    "papermill": {
     "duration": 0.129388,
     "end_time": "2023-07-17T09:34:07.650897",
     "exception": false,
     "start_time": "2023-07-17T09:34:07.521509",
     "status": "completed"
    },
    "tags": []
   },
   "outputs": [
    {
     "ename": "",
     "evalue": "",
     "output_type": "error",
     "traceback": [
      "\u001b[1;31mRunning cells with 'c:\\Python310\\python.exe' requires the ipykernel package.\n",
      "\u001b[1;31mRun the following command to install 'ipykernel' into the Python environment. \n",
      "\u001b[1;31mCommand: 'c:/Python310/python.exe -m pip install ipykernel -U --user --force-reinstall'"
     ]
    }
   ],
   "source": [
    "net_quantity_df=retail.groupby('Description').mean()['Quantity'].reset_index()\n",
    "net_quantity_df.rename(columns={'Quantity':'Net Quantity'},inplace=True)\n",
    "net_quantity_df.head()"
   ]
  },
  {
   "cell_type": "code",
   "execution_count": null,
   "id": "c6565bf6",
   "metadata": {
    "execution": {
     "iopub.execute_input": "2023-07-17T09:34:07.681107Z",
     "iopub.status.busy": "2023-07-17T09:34:07.680709Z",
     "iopub.status.idle": "2023-07-17T09:34:08.176478Z",
     "shell.execute_reply": "2023-07-17T09:34:08.175305Z"
    },
    "papermill": {
     "duration": 0.513939,
     "end_time": "2023-07-17T09:34:08.179096",
     "exception": false,
     "start_time": "2023-07-17T09:34:07.665157",
     "status": "completed"
    },
    "tags": []
   },
   "outputs": [
    {
     "ename": "",
     "evalue": "",
     "output_type": "error",
     "traceback": [
      "\u001b[1;31mRunning cells with 'c:\\Python310\\python.exe' requires the ipykernel package.\n",
      "\u001b[1;31mRun the following command to install 'ipykernel' into the Python environment. \n",
      "\u001b[1;31mCommand: 'c:/Python310/python.exe -m pip install ipykernel -U --user --force-reinstall'"
     ]
    }
   ],
   "source": [
    "quantity_df=retail.groupby('Description').count()['Quantity'].reset_index()"
   ]
  },
  {
   "cell_type": "code",
   "execution_count": null,
   "id": "2c9616c9",
   "metadata": {
    "execution": {
     "iopub.execute_input": "2023-07-17T09:34:08.209375Z",
     "iopub.status.busy": "2023-07-17T09:34:08.208968Z",
     "iopub.status.idle": "2023-07-17T09:34:08.224346Z",
     "shell.execute_reply": "2023-07-17T09:34:08.223326Z"
    },
    "papermill": {
     "duration": 0.033133,
     "end_time": "2023-07-17T09:34:08.226559",
     "exception": false,
     "start_time": "2023-07-17T09:34:08.193426",
     "status": "completed"
    },
    "tags": []
   },
   "outputs": [
    {
     "ename": "",
     "evalue": "",
     "output_type": "error",
     "traceback": [
      "\u001b[1;31mRunning cells with 'c:\\Python310\\python.exe' requires the ipykernel package.\n",
      "\u001b[1;31mRun the following command to install 'ipykernel' into the Python environment. \n",
      "\u001b[1;31mCommand: 'c:/Python310/python.exe -m pip install ipykernel -U --user --force-reinstall'"
     ]
    }
   ],
   "source": [
    "popular_df = quantity_df.merge(net_quantity_df,on = 'Description')"
   ]
  },
  {
   "cell_type": "code",
   "execution_count": null,
   "id": "7ae62092",
   "metadata": {
    "execution": {
     "iopub.execute_input": "2023-07-17T09:34:08.259729Z",
     "iopub.status.busy": "2023-07-17T09:34:08.259123Z",
     "iopub.status.idle": "2023-07-17T09:34:08.272348Z",
     "shell.execute_reply": "2023-07-17T09:34:08.270999Z"
    },
    "papermill": {
     "duration": 0.033431,
     "end_time": "2023-07-17T09:34:08.274517",
     "exception": false,
     "start_time": "2023-07-17T09:34:08.241086",
     "status": "completed"
    },
    "tags": []
   },
   "outputs": [
    {
     "ename": "",
     "evalue": "",
     "output_type": "error",
     "traceback": [
      "\u001b[1;31mRunning cells with 'c:\\Python310\\python.exe' requires the ipykernel package.\n",
      "\u001b[1;31mRun the following command to install 'ipykernel' into the Python environment. \n",
      "\u001b[1;31mCommand: 'c:/Python310/python.exe -m pip install ipykernel -U --user --force-reinstall'"
     ]
    }
   ],
   "source": [
    "popular_df[popular_df['Quantity']>=100]"
   ]
  },
  {
   "cell_type": "code",
   "execution_count": null,
   "id": "2dd8a64d",
   "metadata": {
    "execution": {
     "iopub.execute_input": "2023-07-17T09:34:08.305894Z",
     "iopub.status.busy": "2023-07-17T09:34:08.305194Z",
     "iopub.status.idle": "2023-07-17T09:34:08.318579Z",
     "shell.execute_reply": "2023-07-17T09:34:08.317371Z"
    },
    "papermill": {
     "duration": 0.031484,
     "end_time": "2023-07-17T09:34:08.320672",
     "exception": false,
     "start_time": "2023-07-17T09:34:08.289188",
     "status": "completed"
    },
    "tags": []
   },
   "outputs": [
    {
     "ename": "",
     "evalue": "",
     "output_type": "error",
     "traceback": [
      "\u001b[1;31mRunning cells with 'c:\\Python310\\python.exe' requires the ipykernel package.\n",
      "\u001b[1;31mRun the following command to install 'ipykernel' into the Python environment. \n",
      "\u001b[1;31mCommand: 'c:/Python310/python.exe -m pip install ipykernel -U --user --force-reinstall'"
     ]
    }
   ],
   "source": [
    "popular_df=popular_df[popular_df['Quantity']>=100].sort_values('Net Quantity',ascending=False)\n",
    "popular_df"
   ]
  },
  {
   "cell_type": "code",
   "execution_count": null,
   "id": "e5b0367e",
   "metadata": {
    "execution": {
     "iopub.execute_input": "2023-07-17T09:34:08.352616Z",
     "iopub.status.busy": "2023-07-17T09:34:08.351907Z",
     "iopub.status.idle": "2023-07-17T09:34:08.897721Z",
     "shell.execute_reply": "2023-07-17T09:34:08.896526Z"
    },
    "papermill": {
     "duration": 0.564324,
     "end_time": "2023-07-17T09:34:08.899978",
     "exception": false,
     "start_time": "2023-07-17T09:34:08.335654",
     "status": "completed"
    },
    "tags": []
   },
   "outputs": [
    {
     "ename": "",
     "evalue": "",
     "output_type": "error",
     "traceback": [
      "\u001b[1;31mRunning cells with 'c:\\Python310\\python.exe' requires the ipykernel package.\n",
      "\u001b[1;31mRun the following command to install 'ipykernel' into the Python environment. \n",
      "\u001b[1;31mCommand: 'c:/Python310/python.exe -m pip install ipykernel -U --user --force-reinstall'"
     ]
    }
   ],
   "source": [
    "popular_df.merge(retail,on='Description')"
   ]
  },
  {
   "cell_type": "code",
   "execution_count": null,
   "id": "89c95dd8",
   "metadata": {
    "execution": {
     "iopub.execute_input": "2023-07-17T09:34:08.933555Z",
     "iopub.status.busy": "2023-07-17T09:34:08.933140Z",
     "iopub.status.idle": "2023-07-17T09:34:09.461354Z",
     "shell.execute_reply": "2023-07-17T09:34:09.460244Z"
    },
    "papermill": {
     "duration": 0.548159,
     "end_time": "2023-07-17T09:34:09.463605",
     "exception": false,
     "start_time": "2023-07-17T09:34:08.915446",
     "status": "completed"
    },
    "tags": []
   },
   "outputs": [
    {
     "ename": "",
     "evalue": "",
     "output_type": "error",
     "traceback": [
      "\u001b[1;31mRunning cells with 'c:\\Python310\\python.exe' requires the ipykernel package.\n",
      "\u001b[1;31mRun the following command to install 'ipykernel' into the Python environment. \n",
      "\u001b[1;31mCommand: 'c:/Python310/python.exe -m pip install ipykernel -U --user --force-reinstall'"
     ]
    }
   ],
   "source": [
    "retail.groupby('CustomerID').count()['Quantity'].reset_index()"
   ]
  },
  {
   "cell_type": "code",
   "execution_count": null,
   "id": "1fb0cd39",
   "metadata": {
    "execution": {
     "iopub.execute_input": "2023-07-17T09:34:09.496524Z",
     "iopub.status.busy": "2023-07-17T09:34:09.496138Z",
     "iopub.status.idle": "2023-07-17T09:34:10.028090Z",
     "shell.execute_reply": "2023-07-17T09:34:10.026920Z"
    },
    "papermill": {
     "duration": 0.550959,
     "end_time": "2023-07-17T09:34:10.030355",
     "exception": false,
     "start_time": "2023-07-17T09:34:09.479396",
     "status": "completed"
    },
    "tags": []
   },
   "outputs": [
    {
     "ename": "",
     "evalue": "",
     "output_type": "error",
     "traceback": [
      "\u001b[1;31mRunning cells with 'c:\\Python310\\python.exe' requires the ipykernel package.\n",
      "\u001b[1;31mRun the following command to install 'ipykernel' into the Python environment. \n",
      "\u001b[1;31mCommand: 'c:/Python310/python.exe -m pip install ipykernel -U --user --force-reinstall'"
     ]
    }
   ],
   "source": [
    "x=retail.groupby('CustomerID').count()['Quantity']>100\n",
    "pro=x[x].index\n",
    "retail"
   ]
  },
  {
   "cell_type": "code",
   "execution_count": null,
   "id": "0f88ac68",
   "metadata": {
    "execution": {
     "iopub.execute_input": "2023-07-17T09:34:10.065291Z",
     "iopub.status.busy": "2023-07-17T09:34:10.064913Z",
     "iopub.status.idle": "2023-07-17T09:34:10.586284Z",
     "shell.execute_reply": "2023-07-17T09:34:10.585106Z"
    },
    "papermill": {
     "duration": 0.541817,
     "end_time": "2023-07-17T09:34:10.588888",
     "exception": false,
     "start_time": "2023-07-17T09:34:10.047071",
     "status": "completed"
    },
    "tags": []
   },
   "outputs": [
    {
     "ename": "",
     "evalue": "",
     "output_type": "error",
     "traceback": [
      "\u001b[1;31mRunning cells with 'c:\\Python310\\python.exe' requires the ipykernel package.\n",
      "\u001b[1;31mRun the following command to install 'ipykernel' into the Python environment. \n",
      "\u001b[1;31mCommand: 'c:/Python310/python.exe -m pip install ipykernel -U --user --force-reinstall'"
     ]
    }
   ],
   "source": [
    "x=retail.groupby('CustomerID').count()['Quantity']>100\n",
    "pro=x[x].index"
   ]
  },
  {
   "cell_type": "code",
   "execution_count": null,
   "id": "9a960c57",
   "metadata": {
    "execution": {
     "iopub.execute_input": "2023-07-17T09:34:10.626127Z",
     "iopub.status.busy": "2023-07-17T09:34:10.625146Z",
     "iopub.status.idle": "2023-07-17T09:34:10.680017Z",
     "shell.execute_reply": "2023-07-17T09:34:10.678894Z"
    },
    "papermill": {
     "duration": 0.077484,
     "end_time": "2023-07-17T09:34:10.682657",
     "exception": false,
     "start_time": "2023-07-17T09:34:10.605173",
     "status": "completed"
    },
    "tags": []
   },
   "outputs": [
    {
     "ename": "",
     "evalue": "",
     "output_type": "error",
     "traceback": [
      "\u001b[1;31mRunning cells with 'c:\\Python310\\python.exe' requires the ipykernel package.\n",
      "\u001b[1;31mRun the following command to install 'ipykernel' into the Python environment. \n",
      "\u001b[1;31mCommand: 'c:/Python310/python.exe -m pip install ipykernel -U --user --force-reinstall'"
     ]
    }
   ],
   "source": [
    "filtered_rating = retail[retail['CustomerID'].isin(pro)]"
   ]
  },
  {
   "cell_type": "code",
   "execution_count": null,
   "id": "70983f44",
   "metadata": {
    "execution": {
     "iopub.execute_input": "2023-07-17T09:34:10.716344Z",
     "iopub.status.busy": "2023-07-17T09:34:10.715961Z",
     "iopub.status.idle": "2023-07-17T09:34:11.118037Z",
     "shell.execute_reply": "2023-07-17T09:34:11.116908Z"
    },
    "papermill": {
     "duration": 0.421424,
     "end_time": "2023-07-17T09:34:11.120241",
     "exception": false,
     "start_time": "2023-07-17T09:34:10.698817",
     "status": "completed"
    },
    "tags": []
   },
   "outputs": [
    {
     "ename": "",
     "evalue": "",
     "output_type": "error",
     "traceback": [
      "\u001b[1;31mRunning cells with 'c:\\Python310\\python.exe' requires the ipykernel package.\n",
      "\u001b[1;31mRun the following command to install 'ipykernel' into the Python environment. \n",
      "\u001b[1;31mCommand: 'c:/Python310/python.exe -m pip install ipykernel -U --user --force-reinstall'"
     ]
    }
   ],
   "source": [
    "filtered_rating.groupby('Description').count()['Quantity']"
   ]
  },
  {
   "cell_type": "code",
   "execution_count": null,
   "id": "dce3d82e",
   "metadata": {
    "execution": {
     "iopub.execute_input": "2023-07-17T09:34:11.154641Z",
     "iopub.status.busy": "2023-07-17T09:34:11.154259Z",
     "iopub.status.idle": "2023-07-17T09:34:11.562310Z",
     "shell.execute_reply": "2023-07-17T09:34:11.561111Z"
    },
    "papermill": {
     "duration": 0.428952,
     "end_time": "2023-07-17T09:34:11.565117",
     "exception": false,
     "start_time": "2023-07-17T09:34:11.136165",
     "status": "completed"
    },
    "tags": []
   },
   "outputs": [
    {
     "ename": "",
     "evalue": "",
     "output_type": "error",
     "traceback": [
      "\u001b[1;31mRunning cells with 'c:\\Python310\\python.exe' requires the ipykernel package.\n",
      "\u001b[1;31mRun the following command to install 'ipykernel' into the Python environment. \n",
      "\u001b[1;31mCommand: 'c:/Python310/python.exe -m pip install ipykernel -U --user --force-reinstall'"
     ]
    }
   ],
   "source": [
    "y = filtered_rating.groupby('Description').count()['Quantity']>=50\n",
    "famous_pro = y[y].index\n",
    "famous_pro"
   ]
  },
  {
   "cell_type": "code",
   "execution_count": null,
   "id": "85712443",
   "metadata": {
    "execution": {
     "iopub.execute_input": "2023-07-17T09:34:11.598966Z",
     "iopub.status.busy": "2023-07-17T09:34:11.598575Z",
     "iopub.status.idle": "2023-07-17T09:34:11.637808Z",
     "shell.execute_reply": "2023-07-17T09:34:11.636564Z"
    },
    "papermill": {
     "duration": 0.058734,
     "end_time": "2023-07-17T09:34:11.640038",
     "exception": false,
     "start_time": "2023-07-17T09:34:11.581304",
     "status": "completed"
    },
    "tags": []
   },
   "outputs": [
    {
     "ename": "",
     "evalue": "",
     "output_type": "error",
     "traceback": [
      "\u001b[1;31mRunning cells with 'c:\\Python310\\python.exe' requires the ipykernel package.\n",
      "\u001b[1;31mRun the following command to install 'ipykernel' into the Python environment. \n",
      "\u001b[1;31mCommand: 'c:/Python310/python.exe -m pip install ipykernel -U --user --force-reinstall'"
     ]
    }
   ],
   "source": [
    "filtered_rating['Description'].isin(famous_pro)"
   ]
  },
  {
   "cell_type": "code",
   "execution_count": null,
   "id": "9dc9e388",
   "metadata": {
    "execution": {
     "iopub.execute_input": "2023-07-17T09:34:11.675453Z",
     "iopub.status.busy": "2023-07-17T09:34:11.674966Z",
     "iopub.status.idle": "2023-07-17T09:34:11.766991Z",
     "shell.execute_reply": "2023-07-17T09:34:11.765757Z"
    },
    "papermill": {
     "duration": 0.112138,
     "end_time": "2023-07-17T09:34:11.769364",
     "exception": false,
     "start_time": "2023-07-17T09:34:11.657226",
     "status": "completed"
    },
    "tags": []
   },
   "outputs": [
    {
     "ename": "",
     "evalue": "",
     "output_type": "error",
     "traceback": [
      "\u001b[1;31mRunning cells with 'c:\\Python310\\python.exe' requires the ipykernel package.\n",
      "\u001b[1;31mRun the following command to install 'ipykernel' into the Python environment. \n",
      "\u001b[1;31mCommand: 'c:/Python310/python.exe -m pip install ipykernel -U --user --force-reinstall'"
     ]
    }
   ],
   "source": [
    "final_r = filtered_rating[filtered_rating['Description'].isin(famous_pro)]\n",
    "final_r"
   ]
  },
  {
   "cell_type": "code",
   "execution_count": null,
   "id": "a89e825a",
   "metadata": {
    "execution": {
     "iopub.execute_input": "2023-07-17T09:34:11.804725Z",
     "iopub.status.busy": "2023-07-17T09:34:11.804323Z",
     "iopub.status.idle": "2023-07-17T09:34:12.042139Z",
     "shell.execute_reply": "2023-07-17T09:34:12.040942Z"
    },
    "papermill": {
     "duration": 0.258722,
     "end_time": "2023-07-17T09:34:12.044967",
     "exception": false,
     "start_time": "2023-07-17T09:34:11.786245",
     "status": "completed"
    },
    "tags": []
   },
   "outputs": [
    {
     "ename": "",
     "evalue": "",
     "output_type": "error",
     "traceback": [
      "\u001b[1;31mRunning cells with 'c:\\Python310\\python.exe' requires the ipykernel package.\n",
      "\u001b[1;31mRun the following command to install 'ipykernel' into the Python environment. \n",
      "\u001b[1;31mCommand: 'c:/Python310/python.exe -m pip install ipykernel -U --user --force-reinstall'"
     ]
    }
   ],
   "source": [
    "pt = final_r.pivot_table(index='Description',columns='CustomerID',values='Quantity')\n",
    "pt"
   ]
  },
  {
   "cell_type": "code",
   "execution_count": null,
   "id": "68816662",
   "metadata": {
    "execution": {
     "iopub.execute_input": "2023-07-17T09:34:12.096529Z",
     "iopub.status.busy": "2023-07-17T09:34:12.096134Z",
     "iopub.status.idle": "2023-07-17T09:34:12.169182Z",
     "shell.execute_reply": "2023-07-17T09:34:12.167926Z"
    },
    "papermill": {
     "duration": 0.103589,
     "end_time": "2023-07-17T09:34:12.171957",
     "exception": false,
     "start_time": "2023-07-17T09:34:12.068368",
     "status": "completed"
    },
    "tags": []
   },
   "outputs": [
    {
     "ename": "",
     "evalue": "",
     "output_type": "error",
     "traceback": [
      "\u001b[1;31mRunning cells with 'c:\\Python310\\python.exe' requires the ipykernel package.\n",
      "\u001b[1;31mRun the following command to install 'ipykernel' into the Python environment. \n",
      "\u001b[1;31mCommand: 'c:/Python310/python.exe -m pip install ipykernel -U --user --force-reinstall'"
     ]
    }
   ],
   "source": [
    "pt.fillna(0,inplace=True)\n",
    "pt"
   ]
  },
  {
   "cell_type": "code",
   "execution_count": null,
   "id": "737e0003",
   "metadata": {
    "execution": {
     "iopub.execute_input": "2023-07-17T09:34:12.215443Z",
     "iopub.status.busy": "2023-07-17T09:34:12.214599Z",
     "iopub.status.idle": "2023-07-17T09:34:12.442773Z",
     "shell.execute_reply": "2023-07-17T09:34:12.441650Z"
    },
    "papermill": {
     "duration": 0.250587,
     "end_time": "2023-07-17T09:34:12.445962",
     "exception": false,
     "start_time": "2023-07-17T09:34:12.195375",
     "status": "completed"
    },
    "tags": []
   },
   "outputs": [
    {
     "ename": "",
     "evalue": "",
     "output_type": "error",
     "traceback": [
      "\u001b[1;31mRunning cells with 'c:\\Python310\\python.exe' requires the ipykernel package.\n",
      "\u001b[1;31mRun the following command to install 'ipykernel' into the Python environment. \n",
      "\u001b[1;31mCommand: 'c:/Python310/python.exe -m pip install ipykernel -U --user --force-reinstall'"
     ]
    }
   ],
   "source": [
    "similarity_scores =cosine_similarity(pt)\n",
    "similarity_scores.shape"
   ]
  },
  {
   "cell_type": "code",
   "execution_count": null,
   "id": "7f6fe3ea",
   "metadata": {
    "execution": {
     "iopub.execute_input": "2023-07-17T09:34:12.523241Z",
     "iopub.status.busy": "2023-07-17T09:34:12.522817Z",
     "iopub.status.idle": "2023-07-17T09:34:12.529611Z",
     "shell.execute_reply": "2023-07-17T09:34:12.528349Z"
    },
    "papermill": {
     "duration": 0.051245,
     "end_time": "2023-07-17T09:34:12.531927",
     "exception": false,
     "start_time": "2023-07-17T09:34:12.480682",
     "status": "completed"
    },
    "tags": []
   },
   "outputs": [
    {
     "ename": "",
     "evalue": "",
     "output_type": "error",
     "traceback": [
      "\u001b[1;31mRunning cells with 'c:\\Python310\\python.exe' requires the ipykernel package.\n",
      "\u001b[1;31mRun the following command to install 'ipykernel' into the Python environment. \n",
      "\u001b[1;31mCommand: 'c:/Python310/python.exe -m pip install ipykernel -U --user --force-reinstall'"
     ]
    }
   ],
   "source": [
    "def recommend(product_name):\n",
    "    #index fetch\n",
    "    index = np.where(pt.index==product_name)[0][0]\n",
    "    similar_items=sorted(list(enumerate(similarity_scores[index])),key=lambda x:x[1],reverse=True)[1:6]\n",
    "    \n",
    "    for i in similar_items:\n",
    "        print(pt.index[i[0]])"
   ]
  },
  {
   "cell_type": "code",
   "execution_count": null,
   "id": "fbf7a375",
   "metadata": {
    "execution": {
     "iopub.execute_input": "2023-07-17T09:34:12.569921Z",
     "iopub.status.busy": "2023-07-17T09:34:12.568771Z",
     "iopub.status.idle": "2023-07-17T09:34:12.579359Z",
     "shell.execute_reply": "2023-07-17T09:34:12.578089Z"
    },
    "papermill": {
     "duration": 0.032089,
     "end_time": "2023-07-17T09:34:12.581668",
     "exception": false,
     "start_time": "2023-07-17T09:34:12.549579",
     "status": "completed"
    },
    "tags": []
   },
   "outputs": [
    {
     "ename": "",
     "evalue": "",
     "output_type": "error",
     "traceback": [
      "\u001b[1;31mRunning cells with 'c:\\Python310\\python.exe' requires the ipykernel package.\n",
      "\u001b[1;31mRun the following command to install 'ipykernel' into the Python environment. \n",
      "\u001b[1;31mCommand: 'c:/Python310/python.exe -m pip install ipykernel -U --user --force-reinstall'"
     ]
    }
   ],
   "source": [
    "recommend('WATERING CAN GARDEN MARKER')"
   ]
  },
  {
   "cell_type": "code",
   "execution_count": null,
   "id": "575464af",
   "metadata": {
    "execution": {
     "iopub.execute_input": "2023-07-17T09:34:12.634805Z",
     "iopub.status.busy": "2023-07-17T09:34:12.634142Z",
     "iopub.status.idle": "2023-07-17T09:34:12.645077Z",
     "shell.execute_reply": "2023-07-17T09:34:12.643681Z"
    },
    "papermill": {
     "duration": 0.046659,
     "end_time": "2023-07-17T09:34:12.649967",
     "exception": false,
     "start_time": "2023-07-17T09:34:12.603308",
     "status": "completed"
    },
    "tags": []
   },
   "outputs": [
    {
     "ename": "",
     "evalue": "",
     "output_type": "error",
     "traceback": [
      "\u001b[1;31mRunning cells with 'c:\\Python310\\python.exe' requires the ipykernel package.\n",
      "\u001b[1;31mRun the following command to install 'ipykernel' into the Python environment. \n",
      "\u001b[1;31mCommand: 'c:/Python310/python.exe -m pip install ipykernel -U --user --force-reinstall'"
     ]
    }
   ],
   "source": [
    "recommend('DAISY GARDEN MARKER')"
   ]
  },
  {
   "cell_type": "code",
   "execution_count": null,
   "id": "929e04b0",
   "metadata": {
    "execution": {
     "iopub.execute_input": "2023-07-17T09:34:12.711414Z",
     "iopub.status.busy": "2023-07-17T09:34:12.710924Z",
     "iopub.status.idle": "2023-07-17T09:34:12.725499Z",
     "shell.execute_reply": "2023-07-17T09:34:12.724384Z"
    },
    "papermill": {
     "duration": 0.048461,
     "end_time": "2023-07-17T09:34:12.728606",
     "exception": false,
     "start_time": "2023-07-17T09:34:12.680145",
     "status": "completed"
    },
    "tags": []
   },
   "outputs": [
    {
     "ename": "",
     "evalue": "",
     "output_type": "error",
     "traceback": [
      "\u001b[1;31mRunning cells with 'c:\\Python310\\python.exe' requires the ipykernel package.\n",
      "\u001b[1;31mRun the following command to install 'ipykernel' into the Python environment. \n",
      "\u001b[1;31mCommand: 'c:/Python310/python.exe -m pip install ipykernel -U --user --force-reinstall'"
     ]
    }
   ],
   "source": [
    "recommend('ZINC T-LIGHT HOLDER STAR LARGE')"
   ]
  },
  {
   "cell_type": "code",
   "execution_count": null,
   "id": "186bdbd5",
   "metadata": {
    "execution": {
     "iopub.execute_input": "2023-07-17T09:34:12.772681Z",
     "iopub.status.busy": "2023-07-17T09:34:12.771459Z",
     "iopub.status.idle": "2023-07-17T09:34:12.781765Z",
     "shell.execute_reply": "2023-07-17T09:34:12.780447Z"
    },
    "papermill": {
     "duration": 0.032123,
     "end_time": "2023-07-17T09:34:12.784118",
     "exception": false,
     "start_time": "2023-07-17T09:34:12.751995",
     "status": "completed"
    },
    "tags": []
   },
   "outputs": [
    {
     "ename": "",
     "evalue": "",
     "output_type": "error",
     "traceback": [
      "\u001b[1;31mRunning cells with 'c:\\Python310\\python.exe' requires the ipykernel package.\n",
      "\u001b[1;31mRun the following command to install 'ipykernel' into the Python environment. \n",
      "\u001b[1;31mCommand: 'c:/Python310/python.exe -m pip install ipykernel -U --user --force-reinstall'"
     ]
    }
   ],
   "source": [
    "recommend('CHILDRENS CUTLERY DOLLY GIRL')"
   ]
  },
  {
   "cell_type": "code",
   "execution_count": null,
   "id": "0cf748ff",
   "metadata": {
    "execution": {
     "iopub.execute_input": "2023-07-17T09:34:12.823784Z",
     "iopub.status.busy": "2023-07-17T09:34:12.822938Z",
     "iopub.status.idle": "2023-07-17T09:34:12.832017Z",
     "shell.execute_reply": "2023-07-17T09:34:12.830778Z"
    },
    "papermill": {
     "duration": 0.03112,
     "end_time": "2023-07-17T09:34:12.834173",
     "exception": false,
     "start_time": "2023-07-17T09:34:12.803053",
     "status": "completed"
    },
    "tags": []
   },
   "outputs": [
    {
     "ename": "",
     "evalue": "",
     "output_type": "error",
     "traceback": [
      "\u001b[1;31mRunning cells with 'c:\\Python310\\python.exe' requires the ipykernel package.\n",
      "\u001b[1;31mRun the following command to install 'ipykernel' into the Python environment. \n",
      "\u001b[1;31mCommand: 'c:/Python310/python.exe -m pip install ipykernel -U --user --force-reinstall'"
     ]
    }
   ],
   "source": [
    "recommend('ASSORTED COLOUR BIRD ORNAMENT')"
   ]
  },
  {
   "cell_type": "code",
   "execution_count": null,
   "id": "5dd0ae3f",
   "metadata": {
    "execution": {
     "iopub.execute_input": "2023-07-17T09:34:12.873012Z",
     "iopub.status.busy": "2023-07-17T09:34:12.871817Z",
     "iopub.status.idle": "2023-07-17T09:34:12.880392Z",
     "shell.execute_reply": "2023-07-17T09:34:12.879435Z"
    },
    "papermill": {
     "duration": 0.030242,
     "end_time": "2023-07-17T09:34:12.882604",
     "exception": false,
     "start_time": "2023-07-17T09:34:12.852362",
     "status": "completed"
    },
    "tags": []
   },
   "outputs": [
    {
     "ename": "",
     "evalue": "",
     "output_type": "error",
     "traceback": [
      "\u001b[1;31mRunning cells with 'c:\\Python310\\python.exe' requires the ipykernel package.\n",
      "\u001b[1;31mRun the following command to install 'ipykernel' into the Python environment. \n",
      "\u001b[1;31mCommand: 'c:/Python310/python.exe -m pip install ipykernel -U --user --force-reinstall'"
     ]
    }
   ],
   "source": [
    "recommend('MINI JIGSAW SPACEBOY')"
   ]
  }
 ],
 "metadata": {
  "kernelspec": {
   "display_name": "Python 3",
   "language": "python",
   "name": "python3"
  },
  "language_info": {
   "codemirror_mode": {
    "name": "ipython",
    "version": 3
   },
   "file_extension": ".py",
   "mimetype": "text/x-python",
   "name": "python",
   "nbconvert_exporter": "python",
   "pygments_lexer": "ipython3",
   "version": "3.10.4"
  },
  "papermill": {
   "default_parameters": {},
   "duration": 30.5078,
   "end_time": "2023-07-17T09:34:14.025233",
   "environment_variables": {},
   "exception": null,
   "input_path": "__notebook__.ipynb",
   "output_path": "__notebook__.ipynb",
   "parameters": {},
   "start_time": "2023-07-17T09:33:43.517433",
   "version": "2.4.0"
  }
 },
 "nbformat": 4,
 "nbformat_minor": 5
}
