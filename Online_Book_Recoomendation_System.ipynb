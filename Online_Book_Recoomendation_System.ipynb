{
  "cells": [
    {
      "cell_type": "code",
      "execution_count": null,
      "metadata": {
        "id": "zGZSqQK4viEa"
      },
      "outputs": [],
      "source": [
        "\n",
        "\n",
        "import os\n",
        "import sys\n",
        "from tempfile import NamedTemporaryFile\n",
        "from urllib.request import urlopen\n",
        "from urllib.parse import unquote, urlparse\n",
        "from urllib.error import HTTPError\n",
        "from zipfile import ZipFile\n",
        "import tarfile\n",
        "import shutil\n",
        "\n",
        "CHUNK_SIZE = 40960\n",
        "DATA_SOURCE_MAPPING = 'book-recommendation-dataset:https%3A%2F%2Fstorage.googleapis.com%2Fkaggle-data-sets%2F1004280%2F5624361%2Fbundle%2Farchive.zip%3FX-Goog-Algorithm%3DGOOG4-RSA-SHA256%26X-Goog-Credential%3Dgcp-kaggle-com%2540kaggle-161607.iam.gserviceaccount.com%252F20240315%252Fauto%252Fstorage%252Fgoog4_request%26X-Goog-Date%3D20240315T061302Z%26X-Goog-Expires%3D259200%26X-Goog-SignedHeaders%3Dhost%26X-Goog-Signature%3D4006151380e04123f0215b07b5fd35e5ba47dd5152ccb0c215af0893f1f5a0c1ba23ed9f0a657bbd45478662b61f364598f4c908c7a75c2eb8b288c879e2a7a43f37f67e04a2b6362c8b303f3c592c02288b0beaebf43eb7b35abbffedc35b2cc6a007a905983671c20b3ca35dad3ae283243eb3b2771492acec7ccf7c41d31c7dffbad989649949ef3bd3362a16b0be746c40e0d4a146273987ddf55df6d2af82d674ef8c7ac8bc87481268470d1c0fe6044c124d9b42f466164afc7b753d52b26930eb98a7ec7b5d063e45e2184581ffa2b39b4580a5678884b1f08d6ae72516a15afd76f3902857dfc3eab4133d8d3ca03dd4016f897abe2d6c8eb18fd9b0'\n",
        "\n",
        "KAGGLE_INPUT_PATH='/kaggle/input'\n",
        "KAGGLE_WORKING_PATH='/kaggle/working'\n",
        "KAGGLE_SYMLINK='kaggle'\n",
        "\n",
        "!umount /kaggle/input/ 2> /dev/null\n",
        "shutil.rmtree('/kaggle/input', ignore_errors=True)\n",
        "os.makedirs(KAGGLE_INPUT_PATH, 0o777, exist_ok=True)\n",
        "os.makedirs(KAGGLE_WORKING_PATH, 0o777, exist_ok=True)\n",
        "\n",
        "try:\n",
        "  os.symlink(KAGGLE_INPUT_PATH, os.path.join(\"..\", 'input'), target_is_directory=True)\n",
        "except FileExistsError:\n",
        "  pass\n",
        "try:\n",
        "  os.symlink(KAGGLE_WORKING_PATH, os.path.join(\"..\", 'working'), target_is_directory=True)\n",
        "except FileExistsError:\n",
        "  pass\n",
        "\n",
        "for data_source_mapping in DATA_SOURCE_MAPPING.split(','):\n",
        "    directory, download_url_encoded = data_source_mapping.split(':')\n",
        "    download_url = unquote(download_url_encoded)\n",
        "    filename = urlparse(download_url).path\n",
        "    destination_path = os.path.join(KAGGLE_INPUT_PATH, directory)\n",
        "    try:\n",
        "        with urlopen(download_url) as fileres, NamedTemporaryFile() as tfile:\n",
        "            total_length = fileres.headers['content-length']\n",
        "            print(f'Downloading {directory}, {total_length} bytes compressed')\n",
        "            dl = 0\n",
        "            data = fileres.read(CHUNK_SIZE)\n",
        "            while len(data) > 0:\n",
        "                dl += len(data)\n",
        "                tfile.write(data)\n",
        "                done = int(50 * dl / int(total_length))\n",
        "                sys.stdout.write(f\"\\r[{'=' * done}{' ' * (50-done)}] {dl} bytes downloaded\")\n",
        "                sys.stdout.flush()\n",
        "                data = fileres.read(CHUNK_SIZE)\n",
        "            if filename.endswith('.zip'):\n",
        "              with ZipFile(tfile) as zfile:\n",
        "                zfile.extractall(destination_path)\n",
        "            else:\n",
        "              with tarfile.open(tfile.name) as tarfile:\n",
        "                tarfile.extractall(destination_path)\n",
        "            print(f'\\nDownloaded and uncompressed: {directory}')\n",
        "    except HTTPError as e:\n",
        "        print(f'Failed to load (likely expired) {download_url} to path {destination_path}')\n",
        "        continue\n",
        "    except OSError as e:\n",
        "        print(f'Failed to load {download_url} to path {destination_path}')\n",
        "        continue\n",
        "\n",
        "print('Data source import complete.')\n"
      ]
    },
    {
      "cell_type": "code",
      "execution_count": null,
      "metadata": {
        "execution": {
          "iopub.execute_input": "2023-07-13T12:38:55.612458Z",
          "iopub.status.busy": "2023-07-13T12:38:55.61199Z",
          "iopub.status.idle": "2023-07-13T12:38:55.618179Z",
          "shell.execute_reply": "2023-07-13T12:38:55.616649Z",
          "shell.execute_reply.started": "2023-07-13T12:38:55.612422Z"
        },
        "id": "yNx7waYZviEd",
        "trusted": true
      },
      "outputs": [],
      "source": [
        "#importing needed libraries\n",
        "import pandas as pd\n",
        "import numpy as np\n",
        "from sklearn.metrics.pairwise import cosine_similarity"
      ]
    },
    {
      "cell_type": "code",
      "execution_count": null,
      "metadata": {
        "execution": {
          "iopub.execute_input": "2023-07-13T12:38:55.635933Z",
          "iopub.status.busy": "2023-07-13T12:38:55.634764Z",
          "iopub.status.idle": "2023-07-13T12:38:57.623484Z",
          "shell.execute_reply": "2023-07-13T12:38:57.622269Z",
          "shell.execute_reply.started": "2023-07-13T12:38:55.635894Z"
        },
        "id": "D_PjPawyviEe",
        "trusted": true
      },
      "outputs": [],
      "source": [
        "#downloading files\n",
        "books=pd.read_csv(\"/kaggle/input/book-recommendation-dataset/Books.csv\")\n",
        "books.head()"
      ]
    },
    {
      "cell_type": "code",
      "execution_count": null,
      "metadata": {
        "execution": {
          "iopub.execute_input": "2023-07-13T12:38:57.626068Z",
          "iopub.status.busy": "2023-07-13T12:38:57.625582Z",
          "iopub.status.idle": "2023-07-13T12:38:58.324737Z",
          "shell.execute_reply": "2023-07-13T12:38:58.323561Z",
          "shell.execute_reply.started": "2023-07-13T12:38:57.626033Z"
        },
        "id": "CeaQOjNCviEe",
        "trusted": true
      },
      "outputs": [],
      "source": [
        "ratings = pd.read_csv(\"/kaggle/input/book-recommendation-dataset/Ratings.csv\")\n",
        "ratings.head()"
      ]
    },
    {
      "cell_type": "code",
      "execution_count": null,
      "metadata": {
        "execution": {
          "iopub.execute_input": "2023-07-13T12:38:58.327346Z",
          "iopub.status.busy": "2023-07-13T12:38:58.326189Z",
          "iopub.status.idle": "2023-07-13T12:38:58.525734Z",
          "shell.execute_reply": "2023-07-13T12:38:58.524513Z",
          "shell.execute_reply.started": "2023-07-13T12:38:58.327298Z"
        },
        "id": "uUFLiXbFviEf",
        "trusted": true
      },
      "outputs": [],
      "source": [
        "users = pd.read_csv(\"/kaggle/input/book-recommendation-dataset/Users.csv\")\n",
        "users.head()"
      ]
    },
    {
      "cell_type": "code",
      "execution_count": null,
      "metadata": {
        "execution": {
          "iopub.execute_input": "2023-07-13T12:38:58.52898Z",
          "iopub.status.busy": "2023-07-13T12:38:58.528013Z",
          "iopub.status.idle": "2023-07-13T12:38:58.534251Z",
          "shell.execute_reply": "2023-07-13T12:38:58.533134Z",
          "shell.execute_reply.started": "2023-07-13T12:38:58.528922Z"
        },
        "id": "tERSIubKviEf",
        "trusted": true
      },
      "outputs": [],
      "source": [
        "print(\"books:\"  ,books.shape)\n",
        "print(\"ratings:\" ,ratings.shape)\n",
        "print(\"users:\" ,users.shape)"
      ]
    },
    {
      "cell_type": "code",
      "execution_count": null,
      "metadata": {
        "execution": {
          "iopub.execute_input": "2023-07-13T12:38:58.535769Z",
          "iopub.status.busy": "2023-07-13T12:38:58.535449Z",
          "iopub.status.idle": "2023-07-13T12:38:58.863105Z",
          "shell.execute_reply": "2023-07-13T12:38:58.86186Z",
          "shell.execute_reply.started": "2023-07-13T12:38:58.535742Z"
        },
        "id": "Ul_yfv2lviEf",
        "trusted": true
      },
      "outputs": [],
      "source": [
        "#checking null values in books csv\n",
        "missing_bookdetails_count=books.isnull().sum()\n",
        "missing_bookdetails_count"
      ]
    },
    {
      "cell_type": "code",
      "execution_count": null,
      "metadata": {
        "execution": {
          "iopub.execute_input": "2023-07-13T12:38:58.865329Z",
          "iopub.status.busy": "2023-07-13T12:38:58.86461Z",
          "iopub.status.idle": "2023-07-13T12:38:58.920703Z",
          "shell.execute_reply": "2023-07-13T12:38:58.919494Z",
          "shell.execute_reply.started": "2023-07-13T12:38:58.865281Z"
        },
        "id": "xv3oFsbfviEg",
        "trusted": true
      },
      "outputs": [],
      "source": [
        "#checking null value in user csv\n",
        "missing_userdet_count = users.isnull().sum()\n",
        "missing_userdet_count"
      ]
    },
    {
      "cell_type": "code",
      "execution_count": null,
      "metadata": {
        "execution": {
          "iopub.execute_input": "2023-07-13T12:38:58.923188Z",
          "iopub.status.busy": "2023-07-13T12:38:58.922089Z",
          "iopub.status.idle": "2023-07-13T12:38:59.130729Z",
          "shell.execute_reply": "2023-07-13T12:38:59.129919Z",
          "shell.execute_reply.started": "2023-07-13T12:38:58.923151Z"
        },
        "id": "EZnfmCwPviEg",
        "trusted": true
      },
      "outputs": [],
      "source": [
        "#checking null value in ratings csv\n",
        "missing_ratings_count = ratings.isnull().sum()\n",
        "missing_ratings_count"
      ]
    },
    {
      "cell_type": "code",
      "execution_count": null,
      "metadata": {
        "execution": {
          "iopub.execute_input": "2023-07-13T12:38:59.132462Z",
          "iopub.status.busy": "2023-07-13T12:38:59.132109Z",
          "iopub.status.idle": "2023-07-13T12:38:59.734735Z",
          "shell.execute_reply": "2023-07-13T12:38:59.733679Z",
          "shell.execute_reply.started": "2023-07-13T12:38:59.132435Z"
        },
        "id": "k7Vj28q6viEg",
        "trusted": true
      },
      "outputs": [],
      "source": [
        "#Checking for dublicates\n",
        "duplicate=books.duplicated().sum()\n",
        "duplicate"
      ]
    },
    {
      "cell_type": "code",
      "execution_count": null,
      "metadata": {
        "execution": {
          "iopub.execute_input": "2023-07-13T12:38:59.736399Z",
          "iopub.status.busy": "2023-07-13T12:38:59.736054Z",
          "iopub.status.idle": "2023-07-13T12:39:00.937896Z",
          "shell.execute_reply": "2023-07-13T12:39:00.936842Z",
          "shell.execute_reply.started": "2023-07-13T12:38:59.73637Z"
        },
        "id": "kQLu_vzNviEh",
        "trusted": true
      },
      "outputs": [],
      "source": [
        "#Merging Ratings And Books Based On ISBN\n",
        "ratings.merge(books, on= 'ISBN').shape\n"
      ]
    },
    {
      "cell_type": "code",
      "execution_count": null,
      "metadata": {
        "execution": {
          "iopub.execute_input": "2023-07-13T12:39:00.942485Z",
          "iopub.status.busy": "2023-07-13T12:39:00.942111Z",
          "iopub.status.idle": "2023-07-13T12:39:02.060706Z",
          "shell.execute_reply": "2023-07-13T12:39:02.059492Z",
          "shell.execute_reply.started": "2023-07-13T12:39:00.942454Z"
        },
        "id": "RJyqvPL1viEh",
        "trusted": true
      },
      "outputs": [],
      "source": [
        "ratings_with_name = ratings.merge(books, on= 'ISBN')\n",
        "ratings_with_name"
      ]
    },
    {
      "cell_type": "code",
      "execution_count": null,
      "metadata": {
        "execution": {
          "iopub.execute_input": "2023-07-13T12:39:02.063087Z",
          "iopub.status.busy": "2023-07-13T12:39:02.062346Z",
          "iopub.status.idle": "2023-07-13T12:39:03.92623Z",
          "shell.execute_reply": "2023-07-13T12:39:03.924971Z",
          "shell.execute_reply.started": "2023-07-13T12:39:02.063024Z"
        },
        "id": "CaQAWD3EviEh",
        "trusted": true
      },
      "outputs": [],
      "source": [
        "ratings_with_name.groupby('Book-Title').count()"
      ]
    },
    {
      "cell_type": "code",
      "execution_count": null,
      "metadata": {
        "execution": {
          "iopub.execute_input": "2023-07-13T12:39:03.928131Z",
          "iopub.status.busy": "2023-07-13T12:39:03.927754Z",
          "iopub.status.idle": "2023-07-13T12:39:05.812122Z",
          "shell.execute_reply": "2023-07-13T12:39:05.810936Z",
          "shell.execute_reply.started": "2023-07-13T12:39:03.928101Z"
        },
        "id": "pm8aLnpSviEh",
        "trusted": true
      },
      "outputs": [],
      "source": [
        "ratings_with_name.groupby('Book-Title').count()['Book-Rating']"
      ]
    },
    {
      "cell_type": "code",
      "execution_count": null,
      "metadata": {
        "execution": {
          "iopub.execute_input": "2023-07-13T12:39:05.813816Z",
          "iopub.status.busy": "2023-07-13T12:39:05.813465Z",
          "iopub.status.idle": "2023-07-13T12:39:07.653226Z",
          "shell.execute_reply": "2023-07-13T12:39:07.652127Z",
          "shell.execute_reply.started": "2023-07-13T12:39:05.813787Z"
        },
        "id": "JjrhL2o6viEi",
        "trusted": true
      },
      "outputs": [],
      "source": [
        "ratings_with_name.groupby('Book-Title').count()['Book-Rating'].reset_index()"
      ]
    },
    {
      "cell_type": "code",
      "execution_count": null,
      "metadata": {
        "execution": {
          "iopub.execute_input": "2023-07-13T12:39:07.65532Z",
          "iopub.status.busy": "2023-07-13T12:39:07.654943Z",
          "iopub.status.idle": "2023-07-13T12:39:09.492602Z",
          "shell.execute_reply": "2023-07-13T12:39:09.491531Z",
          "shell.execute_reply.started": "2023-07-13T12:39:07.655291Z"
        },
        "id": "C87gFWObviEi",
        "trusted": true
      },
      "outputs": [],
      "source": [
        "num_rating_df=ratings_with_name.groupby('Book-Title').count()['Book-Rating'].reset_index()\n",
        "num_rating_df.rename(columns={'Book-Rating':'num_rating'},inplace=True)\n",
        "num_rating_df"
      ]
    },
    {
      "cell_type": "code",
      "execution_count": null,
      "metadata": {
        "execution": {
          "iopub.execute_input": "2023-07-13T12:39:09.494439Z",
          "iopub.status.busy": "2023-07-13T12:39:09.494024Z",
          "iopub.status.idle": "2023-07-13T12:39:10.195616Z",
          "shell.execute_reply": "2023-07-13T12:39:10.194552Z",
          "shell.execute_reply.started": "2023-07-13T12:39:09.494402Z"
        },
        "id": "EdDB8mhfviEi",
        "trusted": true
      },
      "outputs": [],
      "source": [
        "avg_rating_df=ratings_with_name.groupby('Book-Title').mean()['Book-Rating'].reset_index()\n",
        "avg_rating_df.rename(columns={'Book-Rating':'avg_rating'},inplace=True)\n",
        "avg_rating_df"
      ]
    },
    {
      "cell_type": "code",
      "execution_count": null,
      "metadata": {
        "execution": {
          "iopub.execute_input": "2023-07-13T12:39:10.197311Z",
          "iopub.status.busy": "2023-07-13T12:39:10.196989Z",
          "iopub.status.idle": "2023-07-13T12:39:10.408279Z",
          "shell.execute_reply": "2023-07-13T12:39:10.407039Z",
          "shell.execute_reply.started": "2023-07-13T12:39:10.197284Z"
        },
        "id": "-za4hhhfviEi",
        "trusted": true
      },
      "outputs": [],
      "source": [
        "popular_df = num_rating_df.merge(avg_rating_df,on = 'Book-Title')\n",
        "popular_df"
      ]
    },
    {
      "cell_type": "code",
      "execution_count": null,
      "metadata": {
        "execution": {
          "iopub.execute_input": "2023-07-13T12:39:10.410229Z",
          "iopub.status.busy": "2023-07-13T12:39:10.4099Z",
          "iopub.status.idle": "2023-07-13T12:39:10.425478Z",
          "shell.execute_reply": "2023-07-13T12:39:10.424261Z",
          "shell.execute_reply.started": "2023-07-13T12:39:10.410202Z"
        },
        "id": "pfSck9g5viEi",
        "trusted": true
      },
      "outputs": [],
      "source": [
        "popular_df[popular_df['num_rating']>=200]"
      ]
    },
    {
      "cell_type": "code",
      "execution_count": null,
      "metadata": {
        "execution": {
          "iopub.execute_input": "2023-07-13T12:39:10.42755Z",
          "iopub.status.busy": "2023-07-13T12:39:10.42714Z",
          "iopub.status.idle": "2023-07-13T12:39:10.434988Z",
          "shell.execute_reply": "2023-07-13T12:39:10.433738Z",
          "shell.execute_reply.started": "2023-07-13T12:39:10.427513Z"
        },
        "id": "_3qaMqQ3viEi",
        "trusted": true
      },
      "outputs": [],
      "source": [
        "popular_df=popular_df[popular_df['num_rating']>=200].sort_values('avg_rating',ascending=False).head(50)"
      ]
    },
    {
      "cell_type": "code",
      "execution_count": null,
      "metadata": {
        "execution": {
          "iopub.execute_input": "2023-07-13T12:39:10.43662Z",
          "iopub.status.busy": "2023-07-13T12:39:10.436187Z",
          "iopub.status.idle": "2023-07-13T12:39:10.62835Z",
          "shell.execute_reply": "2023-07-13T12:39:10.627208Z",
          "shell.execute_reply.started": "2023-07-13T12:39:10.436583Z"
        },
        "id": "jqUo-Y6oviEj",
        "trusted": true
      },
      "outputs": [],
      "source": [
        "popular_df.merge(books,on='Book-Title')"
      ]
    },
    {
      "cell_type": "code",
      "execution_count": null,
      "metadata": {
        "execution": {
          "iopub.execute_input": "2023-07-13T12:39:10.63031Z",
          "iopub.status.busy": "2023-07-13T12:39:10.629941Z",
          "iopub.status.idle": "2023-07-13T12:39:10.815242Z",
          "shell.execute_reply": "2023-07-13T12:39:10.814102Z",
          "shell.execute_reply.started": "2023-07-13T12:39:10.630276Z"
        },
        "id": "wCO4oLkjviEj",
        "trusted": true
      },
      "outputs": [],
      "source": [
        "popular_df.merge(books,on='Book-Title').drop_duplicates('Book-Title')[['Book-Title','Book-Author','Image-URL-M','num_rating','avg_rating']]"
      ]
    },
    {
      "cell_type": "code",
      "execution_count": null,
      "metadata": {
        "execution": {
          "iopub.execute_input": "2023-07-13T12:39:10.818048Z",
          "iopub.status.busy": "2023-07-13T12:39:10.817664Z",
          "iopub.status.idle": "2023-07-13T12:39:10.835107Z",
          "shell.execute_reply": "2023-07-13T12:39:10.834103Z",
          "shell.execute_reply.started": "2023-07-13T12:39:10.818017Z"
        },
        "id": "-CqJoqVKviEj",
        "trusted": true
      },
      "outputs": [],
      "source": [
        "ratings_with_name"
      ]
    },
    {
      "cell_type": "code",
      "execution_count": null,
      "metadata": {
        "execution": {
          "iopub.execute_input": "2023-07-13T12:39:10.836674Z",
          "iopub.status.busy": "2023-07-13T12:39:10.8363Z",
          "iopub.status.idle": "2023-07-13T12:39:12.24416Z",
          "shell.execute_reply": "2023-07-13T12:39:12.243371Z",
          "shell.execute_reply.started": "2023-07-13T12:39:10.836639Z"
        },
        "id": "J_wWA_KbviEj",
        "trusted": true
      },
      "outputs": [],
      "source": [
        "ratings_with_name.groupby('User-ID').count()['Book-Rating']"
      ]
    },
    {
      "cell_type": "code",
      "execution_count": null,
      "metadata": {
        "execution": {
          "iopub.execute_input": "2023-07-13T12:39:12.247658Z",
          "iopub.status.busy": "2023-07-13T12:39:12.247344Z",
          "iopub.status.idle": "2023-07-13T12:39:13.627153Z",
          "shell.execute_reply": "2023-07-13T12:39:13.625853Z",
          "shell.execute_reply.started": "2023-07-13T12:39:12.247631Z"
        },
        "id": "IvUJ6sMqviEj",
        "trusted": true
      },
      "outputs": [],
      "source": [
        "x=ratings_with_name.groupby('User-ID').count()['Book-Rating']>200\n",
        "padhe_likhe_users = x[x].index\n",
        "ratings_with_name"
      ]
    },
    {
      "cell_type": "code",
      "execution_count": null,
      "metadata": {
        "execution": {
          "iopub.execute_input": "2023-07-13T12:39:13.629346Z",
          "iopub.status.busy": "2023-07-13T12:39:13.62885Z",
          "iopub.status.idle": "2023-07-13T12:39:15.009644Z",
          "shell.execute_reply": "2023-07-13T12:39:15.008602Z",
          "shell.execute_reply.started": "2023-07-13T12:39:13.629301Z"
        },
        "id": "6x468OzBviEj",
        "trusted": true
      },
      "outputs": [],
      "source": [
        "x=ratings_with_name.groupby('User-ID').count()['Book-Rating']>200\n",
        "padhe_likhe_users=x[x].index"
      ]
    },
    {
      "cell_type": "code",
      "execution_count": null,
      "metadata": {
        "execution": {
          "iopub.execute_input": "2023-07-13T12:39:15.01168Z",
          "iopub.status.busy": "2023-07-13T12:39:15.010742Z",
          "iopub.status.idle": "2023-07-13T12:39:15.551174Z",
          "shell.execute_reply": "2023-07-13T12:39:15.55003Z",
          "shell.execute_reply.started": "2023-07-13T12:39:15.011648Z"
        },
        "id": "JqV5Cm__viEj",
        "trusted": true
      },
      "outputs": [],
      "source": [
        "filtered_rating = ratings_with_name[ratings_with_name['User-ID'].isin(padhe_likhe_users)]"
      ]
    },
    {
      "cell_type": "code",
      "execution_count": null,
      "metadata": {
        "execution": {
          "iopub.execute_input": "2023-07-13T12:39:15.552968Z",
          "iopub.status.busy": "2023-07-13T12:39:15.552603Z",
          "iopub.status.idle": "2023-07-13T12:39:16.512143Z",
          "shell.execute_reply": "2023-07-13T12:39:16.51097Z",
          "shell.execute_reply.started": "2023-07-13T12:39:15.552936Z"
        },
        "id": "40WhXIP6viEk",
        "trusted": true
      },
      "outputs": [],
      "source": [
        "filtered_rating.groupby('Book-Title').count()['Book-Rating']"
      ]
    },
    {
      "cell_type": "code",
      "execution_count": null,
      "metadata": {
        "execution": {
          "iopub.execute_input": "2023-07-13T12:39:16.514651Z",
          "iopub.status.busy": "2023-07-13T12:39:16.513727Z",
          "iopub.status.idle": "2023-07-13T12:39:17.458408Z",
          "shell.execute_reply": "2023-07-13T12:39:17.457099Z",
          "shell.execute_reply.started": "2023-07-13T12:39:16.514604Z"
        },
        "id": "AJ3cMDSMviEk",
        "trusted": true
      },
      "outputs": [],
      "source": [
        "y = filtered_rating.groupby('Book-Title').count()['Book-Rating']>=50\n",
        "famous_books = y[y].index\n",
        "famous_books"
      ]
    },
    {
      "cell_type": "code",
      "execution_count": null,
      "metadata": {
        "execution": {
          "iopub.execute_input": "2023-07-13T12:39:17.464208Z",
          "iopub.status.busy": "2023-07-13T12:39:17.463756Z",
          "iopub.status.idle": "2023-07-13T12:39:17.513969Z",
          "shell.execute_reply": "2023-07-13T12:39:17.513051Z",
          "shell.execute_reply.started": "2023-07-13T12:39:17.464172Z"
        },
        "id": "D49cw9_RviEk",
        "trusted": true
      },
      "outputs": [],
      "source": [
        "filtered_rating['Book-Title'].isin(famous_books)"
      ]
    },
    {
      "cell_type": "code",
      "execution_count": null,
      "metadata": {
        "execution": {
          "iopub.execute_input": "2023-07-13T12:39:17.515986Z",
          "iopub.status.busy": "2023-07-13T12:39:17.515136Z",
          "iopub.status.idle": "2023-07-13T12:39:17.590362Z",
          "shell.execute_reply": "2023-07-13T12:39:17.589136Z",
          "shell.execute_reply.started": "2023-07-13T12:39:17.515944Z"
        },
        "id": "vnItZ0UCviEk",
        "trusted": true
      },
      "outputs": [],
      "source": [
        "final_ratings = filtered_rating[filtered_rating['Book-Title'].isin(famous_books)]\n",
        "final_ratings"
      ]
    },
    {
      "cell_type": "code",
      "execution_count": null,
      "metadata": {
        "execution": {
          "iopub.execute_input": "2023-07-13T12:39:17.592467Z",
          "iopub.status.busy": "2023-07-13T12:39:17.59191Z",
          "iopub.status.idle": "2023-07-13T12:39:17.6719Z",
          "shell.execute_reply": "2023-07-13T12:39:17.670513Z",
          "shell.execute_reply.started": "2023-07-13T12:39:17.592429Z"
        },
        "id": "oc9R7MujviEk",
        "trusted": true
      },
      "outputs": [],
      "source": [
        "pt = final_ratings.pivot_table(index='Book-Title',columns='User-ID',values='Book-Rating')\n",
        "pt"
      ]
    },
    {
      "cell_type": "code",
      "execution_count": null,
      "metadata": {
        "execution": {
          "iopub.execute_input": "2023-07-13T12:39:17.674107Z",
          "iopub.status.busy": "2023-07-13T12:39:17.673625Z",
          "iopub.status.idle": "2023-07-13T12:39:17.721424Z",
          "shell.execute_reply": "2023-07-13T12:39:17.720294Z",
          "shell.execute_reply.started": "2023-07-13T12:39:17.674071Z"
        },
        "id": "NZWwG6OqviEl",
        "trusted": true
      },
      "outputs": [],
      "source": [
        "pt.fillna(0,inplace=True)\n",
        "pt"
      ]
    },
    {
      "cell_type": "code",
      "execution_count": null,
      "metadata": {
        "execution": {
          "iopub.execute_input": "2023-07-13T12:39:17.723643Z",
          "iopub.status.busy": "2023-07-13T12:39:17.723176Z",
          "iopub.status.idle": "2023-07-13T12:39:17.72891Z",
          "shell.execute_reply": "2023-07-13T12:39:17.727749Z",
          "shell.execute_reply.started": "2023-07-13T12:39:17.723602Z"
        },
        "id": "gBH45fnmviEl",
        "trusted": true
      },
      "outputs": [],
      "source": [
        "from sklearn.metrics.pairwise import cosine_similarity"
      ]
    },
    {
      "cell_type": "code",
      "execution_count": null,
      "metadata": {
        "execution": {
          "iopub.execute_input": "2023-07-13T12:39:17.731042Z",
          "iopub.status.busy": "2023-07-13T12:39:17.730672Z",
          "iopub.status.idle": "2023-07-13T12:39:17.75526Z",
          "shell.execute_reply": "2023-07-13T12:39:17.75397Z",
          "shell.execute_reply.started": "2023-07-13T12:39:17.731004Z"
        },
        "id": "SUsPrqVyviEl",
        "trusted": true
      },
      "outputs": [],
      "source": [
        "similarity_scores =cosine_similarity(pt)"
      ]
    },
    {
      "cell_type": "code",
      "execution_count": null,
      "metadata": {
        "execution": {
          "iopub.execute_input": "2023-07-13T12:39:17.757857Z",
          "iopub.status.busy": "2023-07-13T12:39:17.757111Z",
          "iopub.status.idle": "2023-07-13T12:39:17.768848Z",
          "shell.execute_reply": "2023-07-13T12:39:17.766843Z",
          "shell.execute_reply.started": "2023-07-13T12:39:17.757804Z"
        },
        "id": "BD-vamWWviEl",
        "trusted": true
      },
      "outputs": [],
      "source": [
        "similarity_scores.shape"
      ]
    },
    {
      "cell_type": "code",
      "execution_count": null,
      "metadata": {
        "execution": {
          "iopub.execute_input": "2023-07-13T12:39:17.771602Z",
          "iopub.status.busy": "2023-07-13T12:39:17.770724Z",
          "iopub.status.idle": "2023-07-13T12:39:17.781409Z",
          "shell.execute_reply": "2023-07-13T12:39:17.779936Z",
          "shell.execute_reply.started": "2023-07-13T12:39:17.771546Z"
        },
        "id": "lCDHwun-viEm",
        "trusted": true
      },
      "outputs": [],
      "source": [
        "def recommend(book_name):\n",
        "    #index fetch\n",
        "    index = np.where(pt.index==book_name)[0][0]\n",
        "    similar_items=sorted(list(enumerate(similarity_scores[index])),key=lambda x:x[1],reverse=True)[1:6]\n",
        "\n",
        "    for i in similar_items:\n",
        "        print(pt.index[i[0]])\n"
      ]
    },
    {
      "cell_type": "code",
      "execution_count": null,
      "metadata": {
        "execution": {
          "iopub.execute_input": "2023-07-13T12:39:17.783863Z",
          "iopub.status.busy": "2023-07-13T12:39:17.783062Z",
          "iopub.status.idle": "2023-07-13T12:39:17.797764Z",
          "shell.execute_reply": "2023-07-13T12:39:17.796554Z",
          "shell.execute_reply.started": "2023-07-13T12:39:17.783816Z"
        },
        "id": "90MhyvDFviEm",
        "trusted": true
      },
      "outputs": [],
      "source": [
        "recommend('The Da Vinci Code')"
      ]
    }
  ],
  "metadata": {
    "colab": {
      "provenance": []
    },
    "kernelspec": {
      "display_name": "Python 3",
      "language": "python",
      "name": "python3"
    },
    "language_info": {
      "codemirror_mode": {
        "name": "ipython",
        "version": 3
      },
      "file_extension": ".py",
      "mimetype": "text/x-python",
      "name": "python",
      "nbconvert_exporter": "python",
      "pygments_lexer": "ipython3",
      "version": "3.10.4"
    }
  },
  "nbformat": 4,
  "nbformat_minor": 0
}
